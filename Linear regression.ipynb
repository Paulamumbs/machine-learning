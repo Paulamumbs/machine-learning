{
 "cells": [
  {
   "cell_type": "code",
   "execution_count": 1,
   "id": "f942299e",
   "metadata": {},
   "outputs": [],
   "source": [
    "import pandas as pd\n",
    "import numpy as np\n",
    "from sklearn.linear_model import LinearRegression\n",
    "from sklearn.metrics import mean_absolute_error, mean_squared_error"
   ]
  },
  {
   "cell_type": "code",
   "execution_count": 2,
   "id": "c617f4d1",
   "metadata": {},
   "outputs": [],
   "source": [
    "import pandas as pd"
   ]
  },
  {
   "cell_type": "code",
   "execution_count": 3,
   "id": "eca8da37",
   "metadata": {},
   "outputs": [],
   "source": [
    "data = pd.read_csv(r'C:\\Users\\DELL E5430\\Downloads\\insurance.csv')"
   ]
  },
  {
   "cell_type": "code",
   "execution_count": 4,
   "id": "f86bb0bf",
   "metadata": {},
   "outputs": [],
   "source": [
    "#define target variable"
   ]
  },
  {
   "cell_type": "code",
   "execution_count": 5,
   "id": "2cb69564",
   "metadata": {},
   "outputs": [],
   "source": [
    "y = data['charges']"
   ]
  },
  {
   "cell_type": "code",
   "execution_count": 6,
   "id": "dafce810",
   "metadata": {},
   "outputs": [],
   "source": [
    "#define the features"
   ]
  },
  {
   "cell_type": "code",
   "execution_count": 7,
   "id": "a50776f2",
   "metadata": {},
   "outputs": [],
   "source": [
    "X = data.drop(['charges'], axis=1)"
   ]
  },
  {
   "cell_type": "code",
   "execution_count": 8,
   "id": "72241035",
   "metadata": {},
   "outputs": [],
   "source": [
    "#encode categorical varibles"
   ]
  },
  {
   "cell_type": "code",
   "execution_count": 9,
   "id": "1157f6cc",
   "metadata": {},
   "outputs": [],
   "source": [
    "X = pd.get_dummies(X)"
   ]
  },
  {
   "cell_type": "code",
   "execution_count": 10,
   "id": "ce505a4e",
   "metadata": {},
   "outputs": [],
   "source": [
    "#split data into training and testing sets"
   ]
  },
  {
   "cell_type": "code",
   "execution_count": 11,
   "id": "550094a9",
   "metadata": {},
   "outputs": [],
   "source": [
    "train_X = X[:-20]\n",
    "train_y = y[:-20]\n",
    "test_X = X[-20:]\n",
    "test_y = y[-20:]"
   ]
  },
  {
   "cell_type": "code",
   "execution_count": 12,
   "id": "e78166d6",
   "metadata": {},
   "outputs": [],
   "source": [
    "#train a linear regression model"
   ]
  },
  {
   "cell_type": "code",
   "execution_count": 13,
   "id": "8bfbf8b6",
   "metadata": {},
   "outputs": [
    {
     "data": {
      "text/plain": [
       "LinearRegression()"
      ]
     },
     "execution_count": 13,
     "metadata": {},
     "output_type": "execute_result"
    }
   ],
   "source": [
    "model = LinearRegression()\n",
    "model.fit(train_X, train_y)"
   ]
  },
  {
   "cell_type": "code",
   "execution_count": 14,
   "id": "11b81cdf",
   "metadata": {},
   "outputs": [
    {
     "data": {
      "text/plain": [
       "LinearRegression()"
      ]
     },
     "execution_count": 14,
     "metadata": {},
     "output_type": "execute_result"
    }
   ],
   "source": [
    "LinearRegression()"
   ]
  },
  {
   "cell_type": "code",
   "execution_count": 15,
   "id": "ee26d204",
   "metadata": {},
   "outputs": [],
   "source": [
    "y_pred = model.predict(test_X)"
   ]
  },
  {
   "cell_type": "code",
   "execution_count": 16,
   "id": "3d805454",
   "metadata": {},
   "outputs": [
    {
     "name": "stdout",
     "output_type": "stream",
     "text": [
      "Mean Absolute Error: 4367.523606000221\n",
      "Mean Squared Error: 38191757.68319818\n",
      "Root Mean Squared Error: 6179.948032402714\n"
     ]
    }
   ],
   "source": [
    "mae = mean_absolute_error(test_y, y_pred)\n",
    "mse = mean_squared_error(test_y, y_pred)\n",
    "rmse = np.sqrt(mse)\n",
    "\n",
    "print('Mean Absolute Error:', mae)\n",
    "print('Mean Squared Error:', mse)\n",
    "print('Root Mean Squared Error:', rmse)"
   ]
  },
  {
   "cell_type": "code",
   "execution_count": 19,
   "id": "7e176e10",
   "metadata": {},
   "outputs": [
    {
     "name": "stdout",
     "output_type": "stream",
     "text": [
      "Mean Absolute Error: 4367.523606000221\n",
      "Mean Squared Error: 38191757.68319818\n",
      "Root Mean Squared Error: 6179.948032402714\n"
     ]
    }
   ],
   "source": [
    "mae = mean_absolute_error(test_y, y_pred)\n",
    "mse = mean_squared_error(test_y, y_pred)\n",
    "rmse = np.sqrt(mse)\n",
    "\n",
    "print('Mean Absolute Error:', mae)\n",
    "print('Mean Squared Error:', mse)\n",
    "print('Root Mean Squared Error:', rmse)\n",
    " "
   ]
  },
  {
   "cell_type": "code",
   "execution_count": null,
   "id": "9710693b",
   "metadata": {},
   "outputs": [],
   "source": []
  }
 ],
 "metadata": {
  "kernelspec": {
   "display_name": "Python 3 (ipykernel)",
   "language": "python",
   "name": "python3"
  },
  "language_info": {
   "codemirror_mode": {
    "name": "ipython",
    "version": 3
   },
   "file_extension": ".py",
   "mimetype": "text/x-python",
   "name": "python",
   "nbconvert_exporter": "python",
   "pygments_lexer": "ipython3",
   "version": "3.9.13"
  }
 },
 "nbformat": 4,
 "nbformat_minor": 5
}
